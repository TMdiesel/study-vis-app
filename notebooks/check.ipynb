{
 "cells": [
  {
   "cell_type": "code",
   "execution_count": 2,
   "source": [
    "import pandas as pd\n",
    "import sqlite3"
   ],
   "outputs": [],
   "metadata": {}
  },
  {
   "cell_type": "code",
   "execution_count": 3,
   "source": [
    "dbname = '../db.sqlite3'\n",
    "conn = sqlite3.connect(dbname)\n",
    "cur = conn.cursor()\n",
    "\n",
    "cur.execute('SELECT * FROM studyvisapp_timemodel')\n",
    "\n",
    "print(cur.fetchall())\n",
    "\n",
    "cur.close()\n",
    "conn.close()"
   ],
   "outputs": [
    {
     "output_type": "stream",
     "name": "stdout",
     "text": [
      "[(1, 'danger', '2021-08-01 08:50:17', '2021-08-01 05:22:55', 0, '頑張った'), (2, 'warning', '2021-08-02 06:50:07', '2021-08-02 05:23:08', 0, '難しい'), (6, 'primary', '2021-08-02 05:23:08', '2021-08-02 05:23:08', None, ''), (10, 'danger', '2021-08-02 05:23:08', '2021-08-02 05:23:08', None, ''), (11, 'danger', '2021-08-11 03:00:00', '2021-08-11 03:00:00', None, '')]\n"
     ]
    }
   ],
   "metadata": {}
  },
  {
   "cell_type": "code",
   "execution_count": null,
   "source": [],
   "outputs": [],
   "metadata": {}
  }
 ],
 "metadata": {
  "orig_nbformat": 4,
  "language_info": {
   "name": "python",
   "version": "3.8.7",
   "mimetype": "text/x-python",
   "codemirror_mode": {
    "name": "ipython",
    "version": 3
   },
   "pygments_lexer": "ipython3",
   "nbconvert_exporter": "python",
   "file_extension": ".py"
  },
  "kernelspec": {
   "name": "python3",
   "display_name": "Python 3.8.7 64-bit ('.venv': poetry)"
  },
  "interpreter": {
   "hash": "79c95a9c28a4035f8d05e16a1d8d7352d9fa390a7d50f52d3a1a4f6f04027a37"
  }
 },
 "nbformat": 4,
 "nbformat_minor": 2
}